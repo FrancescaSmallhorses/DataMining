{
 "cells": [
  {
   "cell_type": "code",
   "execution_count": null,
   "metadata": {},
   "outputs": [],
   "source": [
    "import sys\n",
    "!{sys.executable} -m pip install numpy"
   ]
  },
  {
   "cell_type": "code",
   "execution_count": 25,
   "metadata": {},
   "outputs": [
    {
     "name": "stdout",
     "output_type": "stream",
     "text": [
      "Collecting anytree\n",
      "  Using cached anytree-2.8.0-py2.py3-none-any.whl (41 kB)\n",
      "Requirement already satisfied: six>=1.9.0 in /usr/local/Cellar/jupyterlab/2.2.7/libexec/lib/python3.8/site-packages (from anytree) (1.15.0)\n",
      "Installing collected packages: anytree\n",
      "Successfully installed anytree-2.8.0\n"
     ]
    }
   ],
   "source": [
    "import numpy as np\n",
    "from anytree import AnyNode, RenderTree"
   ]
  },
  {
   "cell_type": "code",
   "execution_count": 134,
   "metadata": {},
   "outputs": [],
   "source": [
    "debug = False\n",
    "# debug = True"
   ]
  },
  {
   "cell_type": "code",
   "execution_count": 135,
   "metadata": {},
   "outputs": [],
   "source": [
    "def impurity(array):\n",
    "    total = np.shape(array)[0]\n",
    "    zero = np.shape(array[array == 0])[0]\n",
    "    one = np.shape(array[array == 1])[0]\n",
    "    result = (zero / total) * (one / total)\n",
    "    return result\n",
    "\n",
    "def bestsplit(x,y):\n",
    "    iSorted = np.sort(np.unique(x))\n",
    "    iSCount = np.shape(iSorted)[0]\n",
    "\n",
    "    splitpoints = (iSorted[0:iSCount-1]+iSorted[1:iSCount])/2\n",
    "    bestSplit  = 0\n",
    "    bestSplitImpurity = 1.0\n",
    "    \n",
    "    for s in splitpoints:\n",
    "        left = y[x <= s]\n",
    "        right = y[x > s]\n",
    "        splitImpurity = (impurity(left) + impurity(right))/2\n",
    "        if (splitImpurity < bestSplitImpurity):\n",
    "            bestSplit = s\n",
    "            bestSplitImpurity = splitImpurity\n",
    "            \n",
    "    return bestSplit, bestSplitImpurity\n",
    "\n",
    "def multiFeatureSplit(x, y):\n",
    "\n",
    "    bestSplit  = 0\n",
    "    bestSplitImpurity = 1.0\n",
    "    \n",
    "    nFeatures = np.shape(x)[1]\n",
    "    for i in range(nFeatures):\n",
    "        split, splitImpurity = bestsplit(x[:,i],y)\n",
    "        if debug:\n",
    "            print(\"split for col \", i, \":\", bestsplit(x[:,i],y))\n",
    "        if (splitImpurity < bestSplitImpurity):\n",
    "            splitFeature = i\n",
    "            bestSplit = split\n",
    "            bestSplitImpurity = splitImpurity\n",
    "    if debug:\n",
    "        print(\"best split at col:\", splitFeature, \"bestSplit:\", bestSplit, \"impurity:\", bestSplitImpurity)\n",
    "    return splitFeature, bestSplit, bestSplitImpurity"
   ]
  },
  {
   "cell_type": "code",
   "execution_count": 136,
   "metadata": {},
   "outputs": [
    {
     "data": {
      "text/plain": [
       "(3, 36.0, 0.10204081632653061)"
      ]
     },
     "execution_count": 136,
     "metadata": {},
     "output_type": "execute_result"
    }
   ],
   "source": [
    "multiFeatureSplit(credit_data[:,np.arange(0,5)],credit_data[:,5])\n"
   ]
  },
  {
   "cell_type": "code",
   "execution_count": 140,
   "metadata": {},
   "outputs": [],
   "source": [
    "#x data-matrix, \n",
    "#y vector of class labels, binary 0 or 1\n",
    "#nmin minimum observations each node should contain\n",
    "#minleaf minimum observations for each leaf\n",
    "#nfeat number of features considered for each split, draw random number of features from which best split is to be selected\n",
    "\n",
    "def tree_grow(x, y, nmin, minleaf, nfeat):\n",
    "\n",
    "    root = AnyNode(indices = np.arrange(0,np.shape(x)[0]))\n",
    "    \n",
    "    nodeStack = [root]\n",
    "    \n",
    "    while not nodeStack:\n",
    "        n = nodeStack[0]\n",
    "        nodeStack = np.delete(nodeStack, 0)\n",
    "        recordClass = np.take(y, n.indices)\n",
    "        \n",
    "        if impurity(recordClass)>0:\n",
    "            print(multiFeatureSplit(x,y))\n",
    "                \n",
    "    return root\n",
    "\n",
    "\n",
    "        "
   ]
  },
  {
   "cell_type": "code",
   "execution_count": 9,
   "metadata": {},
   "outputs": [],
   "source": [
    "def tree_pred(x, tr):\n",
    "    y= \"vector\"\n",
    "    return y"
   ]
  },
  {
   "cell_type": "code",
   "execution_count": 141,
   "metadata": {},
   "outputs": [
    {
     "ename": "NameError",
     "evalue": "name 'AnyNode' is not defined",
     "output_type": "error",
     "traceback": [
      "\u001b[0;31m---------------------------------------------------------------------------\u001b[0m",
      "\u001b[0;31mNameError\u001b[0m                                 Traceback (most recent call last)",
      "\u001b[0;32m<ipython-input-141-499f1ec9e342>\u001b[0m in \u001b[0;36m<module>\u001b[0;34m\u001b[0m\n\u001b[1;32m      4\u001b[0m \u001b[0mclassification\u001b[0m \u001b[0;34m=\u001b[0m \u001b[0mcredit_data\u001b[0m\u001b[0;34m[\u001b[0m\u001b[0;34m:\u001b[0m\u001b[0;34m,\u001b[0m\u001b[0;36m5\u001b[0m\u001b[0;34m]\u001b[0m\u001b[0;34m\u001b[0m\u001b[0;34m\u001b[0m\u001b[0m\n\u001b[1;32m      5\u001b[0m \u001b[0;34m\u001b[0m\u001b[0m\n\u001b[0;32m----> 6\u001b[0;31m \u001b[0mtree_grow\u001b[0m\u001b[0;34m(\u001b[0m\u001b[0mdata\u001b[0m\u001b[0;34m,\u001b[0m \u001b[0mclassification\u001b[0m\u001b[0;34m,\u001b[0m \u001b[0;36m2\u001b[0m\u001b[0;34m,\u001b[0m \u001b[0;36m1\u001b[0m\u001b[0;34m,\u001b[0m \u001b[0;36m1\u001b[0m\u001b[0;34m)\u001b[0m\u001b[0;34m\u001b[0m\u001b[0;34m\u001b[0m\u001b[0m\n\u001b[0m",
      "\u001b[0;32m<ipython-input-140-2d62aa749fca>\u001b[0m in \u001b[0;36mtree_grow\u001b[0;34m(x, y, nmin, minleaf, nfeat)\u001b[0m\n\u001b[1;32m      7\u001b[0m \u001b[0;32mdef\u001b[0m \u001b[0mtree_grow\u001b[0m\u001b[0;34m(\u001b[0m\u001b[0mx\u001b[0m\u001b[0;34m,\u001b[0m \u001b[0my\u001b[0m\u001b[0;34m,\u001b[0m \u001b[0mnmin\u001b[0m\u001b[0;34m,\u001b[0m \u001b[0mminleaf\u001b[0m\u001b[0;34m,\u001b[0m \u001b[0mnfeat\u001b[0m\u001b[0;34m)\u001b[0m\u001b[0;34m:\u001b[0m\u001b[0;34m\u001b[0m\u001b[0;34m\u001b[0m\u001b[0m\n\u001b[1;32m      8\u001b[0m \u001b[0;34m\u001b[0m\u001b[0m\n\u001b[0;32m----> 9\u001b[0;31m     \u001b[0mroot\u001b[0m \u001b[0;34m=\u001b[0m \u001b[0mAnyNode\u001b[0m\u001b[0;34m(\u001b[0m\u001b[0mindices\u001b[0m \u001b[0;34m=\u001b[0m \u001b[0mnp\u001b[0m\u001b[0;34m.\u001b[0m\u001b[0marrange\u001b[0m\u001b[0;34m(\u001b[0m\u001b[0;36m0\u001b[0m\u001b[0;34m,\u001b[0m\u001b[0mnp\u001b[0m\u001b[0;34m.\u001b[0m\u001b[0mshape\u001b[0m\u001b[0;34m(\u001b[0m\u001b[0mx\u001b[0m\u001b[0;34m)\u001b[0m\u001b[0;34m[\u001b[0m\u001b[0;36m0\u001b[0m\u001b[0;34m]\u001b[0m\u001b[0;34m)\u001b[0m\u001b[0;34m)\u001b[0m\u001b[0;34m\u001b[0m\u001b[0;34m\u001b[0m\u001b[0m\n\u001b[0m\u001b[1;32m     10\u001b[0m \u001b[0;34m\u001b[0m\u001b[0m\n\u001b[1;32m     11\u001b[0m     \u001b[0mnodeStack\u001b[0m \u001b[0;34m=\u001b[0m \u001b[0;34m[\u001b[0m\u001b[0mroot\u001b[0m\u001b[0;34m]\u001b[0m\u001b[0;34m\u001b[0m\u001b[0;34m\u001b[0m\u001b[0m\n",
      "\u001b[0;31mNameError\u001b[0m: name 'AnyNode' is not defined"
     ]
    }
   ],
   "source": [
    "#TEST\n",
    "credit_data = np.genfromtxt(\"credit.txt\", delimiter=',',skip_header=True)\n",
    "data = credit_data[:,[0,4]]\n",
    "classification = credit_data[:,5]\n",
    "\n",
    "tree_grow(data, classification, 2, 1, 1)"
   ]
  },
  {
   "cell_type": "code",
   "execution_count": 39,
   "metadata": {},
   "outputs": [
    {
     "name": "stdout",
     "output_type": "stream",
     "text": [
      "[[22.  0.  0. 28.  1.  0.]\n",
      " [46.  0.  1. 32.  0.  0.]\n",
      " [24.  1.  1. 24.  1.  0.]\n",
      " [25.  0.  0. 27.  1.  0.]\n",
      " [29.  1.  1. 32.  0.  0.]\n",
      " [45.  1.  1. 30.  0.  1.]\n",
      " [63.  1.  1. 58.  1.  1.]\n",
      " [36.  1.  0. 52.  1.  1.]\n",
      " [23.  0.  1. 40.  0.  1.]\n",
      " [50.  1.  1. 28.  0.  1.]]\n",
      "-----\n",
      "[[46.  0.  1. 32.  0.  0.]\n",
      " [24.  1.  1. 24.  1.  0.]\n",
      " [25.  0.  0. 27.  1.  0.]\n",
      " [29.  1.  1. 32.  0.  0.]\n",
      " [45.  1.  1. 30.  0.  1.]\n",
      " [63.  1.  1. 58.  1.  1.]\n",
      " [36.  1.  0. 52.  1.  1.]\n",
      " [23.  0.  1. 40.  0.  1.]\n",
      " [50.  1.  1. 28.  0.  1.]]\n",
      "-----\n",
      "[[22.  0.  0. 28.  1.  0.]\n",
      " [46.  0.  1. 32.  0.  0.]\n",
      " [24.  1.  1. 24.  1.  0.]\n",
      " [25.  0.  0. 27.  1.  0.]\n",
      " [29.  1.  1. 32.  0.  0.]\n",
      " [45.  1.  1. 30.  0.  1.]\n",
      " [63.  1.  1. 58.  1.  1.]\n",
      " [36.  1.  0. 52.  1.  1.]\n",
      " [23.  0.  1. 40.  0.  1.]\n",
      " [50.  1.  1. 28.  0.  1.]]\n"
     ]
    }
   ],
   "source": [
    "print(credit_data)\n",
    "print(\"-----\")\n",
    "print(np.delete(credit_data,0, axis=0))\n",
    "print(\"-----\")\n",
    "print(credit_data)"
   ]
  },
  {
   "cell_type": "code",
   "execution_count": 44,
   "metadata": {},
   "outputs": [
    {
     "name": "stdout",
     "output_type": "stream",
     "text": [
      "[1 2 3 4 5 6 7 8 9]\n"
     ]
    }
   ],
   "source": [
    "list = np.arange(0,10)\n",
    "list = np.delete(list,0)\n",
    "print(list)"
   ]
  },
  {
   "cell_type": "code",
   "execution_count": 50,
   "metadata": {},
   "outputs": [
    {
     "data": {
      "text/plain": [
       "array([[22.,  0.,  0., 28.,  1.,  0.],\n",
       "       [46.,  0.,  1., 32.,  0.,  0.],\n",
       "       [24.,  1.,  1., 24.,  1.,  0.],\n",
       "       [50.,  1.,  1., 28.,  0.,  1.]])"
      ]
     },
     "execution_count": 50,
     "metadata": {},
     "output_type": "execute_result"
    }
   ],
   "source": [
    "np.take(credit_data, [0,1,2,9], 0)"
   ]
  },
  {
   "cell_type": "code",
   "execution_count": 66,
   "metadata": {},
   "outputs": [
    {
     "name": "stdout",
     "output_type": "stream",
     "text": [
      "[0. 0. 0. 0. 0. 1. 1. 1. 1. 1.]\n",
      "[[22.  0.  0. 28.  1.  0.]\n",
      " [46.  0.  1. 32.  0.  0.]\n",
      " [24.  1.  1. 24.  1.  0.]\n",
      " [25.  0.  0. 27.  1.  0.]\n",
      " [29.  1.  1. 32.  0.  0.]\n",
      " [45.  1.  1. 30.  0.  1.]\n",
      " [63.  1.  1. 58.  1.  1.]\n",
      " [36.  1.  0. 52.  1.  1.]\n",
      " [23.  0.  1. 40.  0.  1.]\n",
      " [50.  1.  1. 28.  0.  1.]]\n"
     ]
    }
   ],
   "source": [
    "print(credit_data[:,5])\n",
    "print(credit_data)"
   ]
  },
  {
   "cell_type": "code",
   "execution_count": null,
   "metadata": {},
   "outputs": [],
   "source": []
  }
 ],
 "metadata": {
  "kernelspec": {
   "display_name": "Python 3",
   "language": "python",
   "name": "python3"
  },
  "language_info": {
   "codemirror_mode": {
    "name": "ipython",
    "version": 3
   },
   "file_extension": ".py",
   "mimetype": "text/x-python",
   "name": "python",
   "nbconvert_exporter": "python",
   "pygments_lexer": "ipython3",
   "version": "3.8.5"
  }
 },
 "nbformat": 4,
 "nbformat_minor": 4
}
