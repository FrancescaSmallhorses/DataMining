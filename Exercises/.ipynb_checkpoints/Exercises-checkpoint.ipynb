{
 "cells": [
  {
   "cell_type": "code",
   "execution_count": 3,
   "metadata": {},
   "outputs": [],
   "source": [
    "import numpy as np\n",
    "credit_data = np.genfromtxt(\"credit.txt\", delimiter=',',skip_header=True)"
   ]
  },
  {
   "cell_type": "code",
   "execution_count": null,
   "metadata": {},
   "outputs": [],
   "source": [
    "array=np.array([1,0,1,1,1,0,0,1,1,0,1])\n",
    "array"
   ]
  },
  {
   "cell_type": "code",
   "execution_count": 43,
   "metadata": {},
   "outputs": [
    {
     "data": {
      "text/plain": [
       "0.23140495867768596"
      ]
     },
     "execution_count": 43,
     "metadata": {},
     "output_type": "execute_result"
    }
   ],
   "source": [
    "#EXERCISE 1\n",
    "\n",
    "def impurity(array):\n",
    "    total = np.shape(array)[0]\n",
    "    zero = np.shape(array[array == 0])[0]\n",
    "    one = np.shape(array[array == 1])[0]\n",
    "    result = (zero / total) * (one / total)\n",
    "    return result\n",
    "    \n",
    "\n",
    "impurity(array)"
   ]
  },
  {
   "cell_type": "code",
   "execution_count": 45,
   "metadata": {},
   "outputs": [
    {
     "data": {
      "text/plain": [
       "36.0"
      ]
     },
     "execution_count": 45,
     "metadata": {},
     "output_type": "execute_result"
    }
   ],
   "source": [
    "#EXERCISE 2\n",
    "\n",
    "def bestsplit(x,y):\n",
    "    iSorted = np.sort(np.unique(x))\n",
    "    splitpoints = (iSorted[0:7]+iSorted[1:8])/2\n",
    "    \n",
    "    bestSplit  = 0\n",
    "    bestSplitImpurity = 1.0\n",
    "    \n",
    "    for s in splitpoints:\n",
    "        left = y[x <= s]\n",
    "        right = y[x > s]\n",
    "        splitImpurity = (impurity(left) + impurity(right))/2\n",
    "        if (splitImpurity < bestSplitImpurity):\n",
    "            bestSplit = s\n",
    "            bestSplitImpurity = splitImpurity\n",
    "            \n",
    "    return(bestSplit)\n",
    "    \n",
    "\n",
    "\n",
    "bestsplit(credit_data[:,3],credit_data[:,5])\n",
    "\n",
    "# def bestsplit(x,y):\n",
    "#     iSorted = np.sort(np.unique(x))\n",
    "#     print(iSorted)\n",
    "#     splitpoints = (iSorted[0:7]+iSorted[1:8])/2\n",
    "#     print(splitpoints)\n",
    "    \n",
    "#     bestSplit  = 0\n",
    "#     bestSplitImpurity = 1.0\n",
    "    \n",
    "#     for s in splitpoints:\n",
    "#         print(\"-----------------\")\n",
    "#         print(s)\n",
    "#         left = y[x <= s]\n",
    "#         right = y[x > s]\n",
    "#         print (\"left \", left, \" right \", right)\n",
    "#         splitImpurity = (impurity(left) + impurity(right))/2\n",
    "#         print(\"splitimpure \", splitImpurity , \" < \", bestSplitImpurity, \"TRUE? : \", splitImpurity < bestSplitImpurity)\n",
    "#         if (splitImpurity < bestSplitImpurity):\n",
    "#             print(\"splitswap\", s)\n",
    "#             bestSplit = s\n",
    "#             bestSplitImpurity = splitImpurity\n",
    "            \n",
    "#     print(\"bestSplit:\", bestSplit, \" \", splitImpurity)\n",
    "#     return(bestSplit)\n",
    "    \n",
    "\n",
    "\n",
    "# bestsplit(credit_data[:,3],credit_data[:,5])"
   ]
  },
  {
   "cell_type": "code",
   "execution_count": null,
   "metadata": {},
   "outputs": [],
   "source": []
  }
 ],
 "metadata": {
  "kernelspec": {
   "display_name": "Python 3",
   "language": "python",
   "name": "python3"
  },
  "language_info": {
   "codemirror_mode": {
    "name": "ipython",
    "version": 3
   },
   "file_extension": ".py",
   "mimetype": "text/x-python",
   "name": "python",
   "nbconvert_exporter": "python",
   "pygments_lexer": "ipython3",
   "version": "3.8.5"
  }
 },
 "nbformat": 4,
 "nbformat_minor": 4
}
